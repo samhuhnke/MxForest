{
 "cells": [
  {
   "cell_type": "code",
   "execution_count": 1,
   "id": "d027cede-466a-4784-b346-bc45d8471cfe",
   "metadata": {},
   "outputs": [],
   "source": [
    "import pandas as pd\n",
    "import numpy as np\n",
    "\n",
    "from scipy import linalg\n",
    "from scipy import stats"
   ]
  },
  {
   "cell_type": "code",
   "execution_count": 2,
   "id": "1152c2ae-9bfa-436e-ac4b-c249f048141e",
   "metadata": {},
   "outputs": [
    {
     "ename": "NameError",
     "evalue": "name 'pd' is not defined",
     "output_type": "error",
     "traceback": [
      "\u001b[1;31m---------------------------------------------------------------------------\u001b[0m",
      "\u001b[1;31mNameError\u001b[0m                                 Traceback (most recent call last)",
      "Cell \u001b[1;32mIn[2], line 2\u001b[0m\n\u001b[0;32m      1\u001b[0m \u001b[38;5;66;03m# Load data for change detection as a pandas data frame.\u001b[39;00m\n\u001b[1;32m----> 2\u001b[0m infys_df \u001b[38;5;241m=\u001b[39m  pd\u001b[38;5;241m.\u001b[39mread_csv(\u001b[38;5;124m\"\u001b[39m\u001b[38;5;124m../data/INFyS_Selection.csv\u001b[39m\u001b[38;5;124m\"\u001b[39m)\n\u001b[0;32m      3\u001b[0m infys_df\u001b[38;5;241m.\u001b[39mhead()\n",
      "\u001b[1;31mNameError\u001b[0m: name 'pd' is not defined"
     ]
    }
   ],
   "source": [
    "# Load data for change detection as a pandas data frame.\n",
    "infys_df =  pd.read_csv(\"../data/INFyS_Selection.csv\")\n",
    "infys_df.head()"
   ]
  },
  {
   "cell_type": "code",
   "execution_count": 3,
   "id": "5a557c2d-3eb1-4b37-8ce4-0a8519d310ad",
   "metadata": {},
   "outputs": [],
   "source": [
    "# Create new ids by concatenating 'Conglomerado' and 'Sitio'.\n",
    "infys_df['cng_sit'] = infys_df['Conglomerado'].astype(str) + '_' + infys_df['Sitio'].astype(str)\n",
    "\n",
    "# As we want to compare cycle 1 vs cycle 2 lets separate them.\n",
    "infys_df_c1 = infys_df[infys_df['File'] == 1]\n",
    "infys_df_c2 = infys_df[infys_df['File'] == 2]"
   ]
  },
  {
   "cell_type": "code",
   "execution_count": 4,
   "id": "a7573310-c66a-4876-83c1-f362e56f0630",
   "metadata": {},
   "outputs": [],
   "source": [
    "# Find intersection of new ID variable: 'cng_sit', so obs. that are present in both cycles.\n",
    "s1 = infys_df_c1['cng_sit']\n",
    "s2 = infys_df_c2['cng_sit']\n",
    "cng_sit_inter = pd.Series(list(set(s1).intersection(set(s2))))"
   ]
  },
  {
   "cell_type": "code",
   "execution_count": 5,
   "id": "2bf700f5-fb53-4bb3-bb5c-9606834dc3a6",
   "metadata": {},
   "outputs": [],
   "source": [
    "# Filter out obs. that dont appear in cng_sit_inter.\n",
    "infys_df_c1 = infys_df_c1[infys_df_c1['cng_sit'].isin(cng_sit_inter)]\n",
    "infys_df_c2 = infys_df_c2[infys_df_c2['cng_sit'].isin(cng_sit_inter)]"
   ]
  },
  {
   "cell_type": "code",
   "execution_count": 6,
   "id": "4a12c86e-7fb2-41f0-bda3-1bc76c7d553d",
   "metadata": {},
   "outputs": [],
   "source": [
    "# Select only variables to be utilized in change detection.\n",
    "vars = [\"H\", \"J\", \"AvgTreeHeight\", \"AvgDbh\", \"AvgCrownDiameter\", \"AvgCrownHeight\", \"AvgCrownArea\"]\n",
    "nvars = len(vars)\n",
    "infys_df_c1_c = infys_df_c1[infys_df_c1.columns.intersection(vars)]\n",
    "infys_df_c2_c = infys_df_c2[infys_df_c2.columns.intersection(vars)]\n",
    "\n",
    "c1_c_nans = infys_df_c1_c.isna().any(axis=1).to_numpy()\n",
    "c2_c_nans = infys_df_c2_c.isna().any(axis=1).to_numpy()"
   ]
  },
  {
   "cell_type": "code",
   "execution_count": 7,
   "id": "29d25cf3-e61d-41b8-ad5c-1ca8ab19de32",
   "metadata": {},
   "outputs": [],
   "source": [
    "# Creat change data matrix, missing values mask and initial change weights.\n",
    "dm = np.zeros((2 * nvars, infys_df_c1_c.shape[0]))\n",
    "dm[0:nvars] = np.transpose(infys_df_c1_c.to_numpy())\n",
    "dm[nvars:] = np.transpose(infys_df_c2_c.to_numpy())\n",
    "\n",
    "nodataidx = c1_c_nans | c2_c_nans\n",
    "gooddataidx = nodataidx == False\n",
    "dm = dm[:, gooddataidx]\n",
    "ngood = np.sum(gooddataidx)"
   ]
  },
  {
   "cell_type": "code",
   "execution_count": 23,
   "id": "f8d428e9-b001-49b0-9c45-50d13e269f2e",
   "metadata": {},
   "outputs": [
    {
     "name": "stdout",
     "output_type": "stream",
     "text": [
      "0\n",
      "1\n",
      "2\n",
      "3\n",
      "4\n",
      "5\n",
      "6\n",
      "7\n",
      "8\n",
      "9\n",
      "10\n",
      "11\n",
      "12\n",
      "13\n",
      "14\n",
      "15\n",
      "16\n",
      "17\n",
      "18\n",
      "19\n",
      "20\n",
      "21\n"
     ]
    }
   ],
   "source": [
    "# Change detection iterations.\n",
    "# iteration of MAD   \n",
    "wt = np.ones(int(ngood))\n",
    "delta = 1.0\n",
    "oldrho = np.zeros(nvars)\n",
    "iter = 0\n",
    " \n",
    "while (delta > 0.01) and (iter < 50): \n",
    "    print(iter)\n",
    "    # Weighted covariance matrices and means.\n",
    "    sumw = np.sum(wt)\n",
    "    means = np.average(dm,axis=1, weights=wt)\n",
    "    dmc = dm - means[:,np.newaxis]\n",
    "    dmc = np.multiply(dmc,np.sqrt(wt))\n",
    "    sigma = np.dot(dmc,dmc.T)/sumw\n",
    "   \n",
    "    s11 = sigma[0:nvars, 0:nvars]\n",
    "    s22 = sigma[nvars:, nvars:]\n",
    "    s12 = sigma[0:nvars, nvars:]\n",
    "    s21 = sigma[nvars:, 0:nvars]\n",
    "    \n",
    "    # Solution of generalized eigenproblems.\n",
    "    aux_1 = linalg.solve(s22, s21)\n",
    "    lama, a = linalg.eig(np.dot(s12, aux_1), s11)\n",
    "    aux_2 = linalg.solve(s11, s12)\n",
    "    lamb, b = linalg.eig(np.dot(s21, aux_2), s22)\n",
    "    \n",
    "    # Sort a.  \n",
    "    idx = np.argsort(lama)\n",
    "    a = a[:, idx]\n",
    "    \n",
    "    # Sort b.        \n",
    "    idx = np.argsort(lamb)\n",
    "    b = b[:, idx]\n",
    "    \n",
    "    # Canonical correlations.        \n",
    "    rho = np.sqrt(np.real(lamb[idx]))\n",
    "    \n",
    "    # Normalize dispersions.  \n",
    "    tmp1 = np.dot(np.dot(a.T,s11), a)\n",
    "    tmp2 = 1. / np.sqrt(np.diag(tmp1))\n",
    "    tmp3 = np.tile(tmp2, (nvars, 1))\n",
    "    a = np.multiply(a, tmp3)\n",
    "    b = np.mat(b)\n",
    "    tmp1 = np.dot(np.dot(b.T,s22), b)\n",
    "    tmp2 = 1. / np.sqrt(np.diag(tmp1))\n",
    "    tmp3 = np.tile(tmp2, (nvars, 1))\n",
    "    b = np.multiply(b, tmp3)\n",
    "        \n",
    "    # Assure positive correlation\n",
    "    tmp = np.diag(np.dot(np.dot(a.T,s12), b))\n",
    "    b = np.dot(b,np.diag(tmp / np.abs(tmp)))\n",
    "\n",
    "    # Canonical and MAD variates\n",
    "    U = np.dot(a.T , (dm[0:nvars, :] - means[0:nvars, np.newaxis]))    \n",
    "    V = np.dot(b.T , (dm[nvars:, :] - means[nvars:, np.newaxis]))          \n",
    "    MAD = U - V  \n",
    "        \n",
    "    # New weights.        \n",
    "    var_mad = np.tile(np.mat(2 * (1 - rho)).T, (1, ngood))    \n",
    "    chisqr = np.sum(np.multiply(MAD, MAD) / var_mad, 0)\n",
    "    wt = np.squeeze(1 - np.array(stats.chi2._cdf(chisqr, nvars)))\n",
    "        \n",
    "    # Continue iteration.        \n",
    "    delta = np.sum(np.abs(rho - oldrho))\n",
    "    oldrho = rho\n",
    "    iter += 1\n",
    "    \n",
    "# reshape to original image size, by including nodata pixels    \n",
    "MADout = np.zeros((int(nvars), infys_df_c1_c.shape[0]))\n",
    "MADout[0:nvars, gooddataidx] = MAD\n",
    "#MADout[nvars:(nvars + 1), gooddataidx] = chisqr"
   ]
  },
  {
   "cell_type": "code",
   "execution_count": 9,
   "id": "968bd916-4822-4fd6-b6ad-a68b3d7dcbd0",
   "metadata": {},
   "outputs": [],
   "source": []
  },
  {
   "cell_type": "code",
   "execution_count": 24,
   "id": "7413b93f-1d65-43db-90e1-8bbc022357ca",
   "metadata": {},
   "outputs": [],
   "source": [
    "# TODO add coordinates to table\n",
    "# Pandas copied R maybe read a bit on python data frame manipulation\n",
    "MADout = np.transpose(MADout).copy()\n",
    "MADout_df = pd.DataFrame(MADout, columns=vars)"
   ]
  },
  {
   "cell_type": "code",
   "execution_count": 25,
   "id": "448528ff-fa54-45d7-a6ae-d9d12ef69828",
   "metadata": {},
   "outputs": [],
   "source": [
    "MADout_df[\"X\"] = infys_df_c1[\"X\"]\n",
    "MADout_df[\"Y\"] = infys_df_c1[\"Y\"]"
   ]
  },
  {
   "cell_type": "code",
   "execution_count": 28,
   "id": "3c4f0efb-4bb0-4392-b928-103b8dc2b5b7",
   "metadata": {},
   "outputs": [],
   "source": [
    "MADout_df.to_csv('iMAD_results.csv', index=False)"
   ]
  },
  {
   "cell_type": "code",
   "execution_count": null,
   "id": "dd1a5808-7929-4cd5-929b-07c79545de13",
   "metadata": {},
   "outputs": [],
   "source": []
  }
 ],
 "metadata": {
  "kernelspec": {
   "display_name": "Python 3 (ipykernel)",
   "language": "python",
   "name": "python3"
  },
  "language_info": {
   "codemirror_mode": {
    "name": "ipython",
    "version": 3
   },
   "file_extension": ".py",
   "mimetype": "text/x-python",
   "name": "python",
   "nbconvert_exporter": "python",
   "pygments_lexer": "ipython3",
   "version": "3.11.5"
  }
 },
 "nbformat": 4,
 "nbformat_minor": 5
}
