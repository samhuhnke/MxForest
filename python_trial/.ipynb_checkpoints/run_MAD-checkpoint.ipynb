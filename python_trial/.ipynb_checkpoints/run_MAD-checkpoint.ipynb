{
 "cells": [
  {
   "cell_type": "code",
   "execution_count": 13,
   "id": "51e76230",
   "metadata": {},
   "outputs": [],
   "source": [
    "# This script is used for testing all adaptations and changes made\n",
    "## comparison should be 1 and 2 (muestreado1 == 1 & muestreado2 == 1)\n",
    "## potentially need to change data from wide format (Metadatatable) to long format (initial diagnostics table)\n",
    "## less changes for this script would be needed this way"
   ]
  },
  {
   "cell_type": "code",
   "execution_count": 2,
   "id": "d027cede-466a-4784-b346-bc45d8471cfe",
   "metadata": {},
   "outputs": [],
   "source": [
    "import pandas as pd\n",
    "import numpy as np\n",
    "\n",
    "from scipy import linalg\n",
    "from scipy import stats"
   ]
  },
  {
   "cell_type": "code",
   "execution_count": 14,
   "id": "1152c2ae-9bfa-436e-ac4b-c249f048141e",
   "metadata": {},
   "outputs": [
    {
     "ename": "FileNotFoundError",
     "evalue": "[Errno 2] No such file or directory: '../data/iMAD_Data12.csv'",
     "output_type": "error",
     "traceback": [
      "\u001b[1;31m---------------------------------------------------------------------------\u001b[0m",
      "\u001b[1;31mFileNotFoundError\u001b[0m                         Traceback (most recent call last)",
      "Cell \u001b[1;32mIn[14], line 2\u001b[0m\n\u001b[0;32m      1\u001b[0m \u001b[38;5;66;03m# Load data for change detection as a pandas data frame.\u001b[39;00m\n\u001b[1;32m----> 2\u001b[0m infys_df \u001b[38;5;241m=\u001b[39m  pd\u001b[38;5;241m.\u001b[39mread_csv(\u001b[38;5;124m\"\u001b[39m\u001b[38;5;124m../data/iMAD_Data12.csv\u001b[39m\u001b[38;5;124m\"\u001b[39m) \u001b[38;5;66;03m#need to change the dataset \u001b[39;00m\n\u001b[0;32m      3\u001b[0m infys_df\u001b[38;5;241m.\u001b[39mhead()\n",
      "File \u001b[1;32m~\\anaconda3\\Lib\\site-packages\\pandas\\io\\parsers\\readers.py:912\u001b[0m, in \u001b[0;36mread_csv\u001b[1;34m(filepath_or_buffer, sep, delimiter, header, names, index_col, usecols, dtype, engine, converters, true_values, false_values, skipinitialspace, skiprows, skipfooter, nrows, na_values, keep_default_na, na_filter, verbose, skip_blank_lines, parse_dates, infer_datetime_format, keep_date_col, date_parser, date_format, dayfirst, cache_dates, iterator, chunksize, compression, thousands, decimal, lineterminator, quotechar, quoting, doublequote, escapechar, comment, encoding, encoding_errors, dialect, on_bad_lines, delim_whitespace, low_memory, memory_map, float_precision, storage_options, dtype_backend)\u001b[0m\n\u001b[0;32m    899\u001b[0m kwds_defaults \u001b[38;5;241m=\u001b[39m _refine_defaults_read(\n\u001b[0;32m    900\u001b[0m     dialect,\n\u001b[0;32m    901\u001b[0m     delimiter,\n\u001b[1;32m   (...)\u001b[0m\n\u001b[0;32m    908\u001b[0m     dtype_backend\u001b[38;5;241m=\u001b[39mdtype_backend,\n\u001b[0;32m    909\u001b[0m )\n\u001b[0;32m    910\u001b[0m kwds\u001b[38;5;241m.\u001b[39mupdate(kwds_defaults)\n\u001b[1;32m--> 912\u001b[0m \u001b[38;5;28;01mreturn\u001b[39;00m _read(filepath_or_buffer, kwds)\n",
      "File \u001b[1;32m~\\anaconda3\\Lib\\site-packages\\pandas\\io\\parsers\\readers.py:577\u001b[0m, in \u001b[0;36m_read\u001b[1;34m(filepath_or_buffer, kwds)\u001b[0m\n\u001b[0;32m    574\u001b[0m _validate_names(kwds\u001b[38;5;241m.\u001b[39mget(\u001b[38;5;124m\"\u001b[39m\u001b[38;5;124mnames\u001b[39m\u001b[38;5;124m\"\u001b[39m, \u001b[38;5;28;01mNone\u001b[39;00m))\n\u001b[0;32m    576\u001b[0m \u001b[38;5;66;03m# Create the parser.\u001b[39;00m\n\u001b[1;32m--> 577\u001b[0m parser \u001b[38;5;241m=\u001b[39m TextFileReader(filepath_or_buffer, \u001b[38;5;241m*\u001b[39m\u001b[38;5;241m*\u001b[39mkwds)\n\u001b[0;32m    579\u001b[0m \u001b[38;5;28;01mif\u001b[39;00m chunksize \u001b[38;5;129;01mor\u001b[39;00m iterator:\n\u001b[0;32m    580\u001b[0m     \u001b[38;5;28;01mreturn\u001b[39;00m parser\n",
      "File \u001b[1;32m~\\anaconda3\\Lib\\site-packages\\pandas\\io\\parsers\\readers.py:1407\u001b[0m, in \u001b[0;36mTextFileReader.__init__\u001b[1;34m(self, f, engine, **kwds)\u001b[0m\n\u001b[0;32m   1404\u001b[0m     \u001b[38;5;28mself\u001b[39m\u001b[38;5;241m.\u001b[39moptions[\u001b[38;5;124m\"\u001b[39m\u001b[38;5;124mhas_index_names\u001b[39m\u001b[38;5;124m\"\u001b[39m] \u001b[38;5;241m=\u001b[39m kwds[\u001b[38;5;124m\"\u001b[39m\u001b[38;5;124mhas_index_names\u001b[39m\u001b[38;5;124m\"\u001b[39m]\n\u001b[0;32m   1406\u001b[0m \u001b[38;5;28mself\u001b[39m\u001b[38;5;241m.\u001b[39mhandles: IOHandles \u001b[38;5;241m|\u001b[39m \u001b[38;5;28;01mNone\u001b[39;00m \u001b[38;5;241m=\u001b[39m \u001b[38;5;28;01mNone\u001b[39;00m\n\u001b[1;32m-> 1407\u001b[0m \u001b[38;5;28mself\u001b[39m\u001b[38;5;241m.\u001b[39m_engine \u001b[38;5;241m=\u001b[39m \u001b[38;5;28mself\u001b[39m\u001b[38;5;241m.\u001b[39m_make_engine(f, \u001b[38;5;28mself\u001b[39m\u001b[38;5;241m.\u001b[39mengine)\n",
      "File \u001b[1;32m~\\anaconda3\\Lib\\site-packages\\pandas\\io\\parsers\\readers.py:1661\u001b[0m, in \u001b[0;36mTextFileReader._make_engine\u001b[1;34m(self, f, engine)\u001b[0m\n\u001b[0;32m   1659\u001b[0m     \u001b[38;5;28;01mif\u001b[39;00m \u001b[38;5;124m\"\u001b[39m\u001b[38;5;124mb\u001b[39m\u001b[38;5;124m\"\u001b[39m \u001b[38;5;129;01mnot\u001b[39;00m \u001b[38;5;129;01min\u001b[39;00m mode:\n\u001b[0;32m   1660\u001b[0m         mode \u001b[38;5;241m+\u001b[39m\u001b[38;5;241m=\u001b[39m \u001b[38;5;124m\"\u001b[39m\u001b[38;5;124mb\u001b[39m\u001b[38;5;124m\"\u001b[39m\n\u001b[1;32m-> 1661\u001b[0m \u001b[38;5;28mself\u001b[39m\u001b[38;5;241m.\u001b[39mhandles \u001b[38;5;241m=\u001b[39m get_handle(\n\u001b[0;32m   1662\u001b[0m     f,\n\u001b[0;32m   1663\u001b[0m     mode,\n\u001b[0;32m   1664\u001b[0m     encoding\u001b[38;5;241m=\u001b[39m\u001b[38;5;28mself\u001b[39m\u001b[38;5;241m.\u001b[39moptions\u001b[38;5;241m.\u001b[39mget(\u001b[38;5;124m\"\u001b[39m\u001b[38;5;124mencoding\u001b[39m\u001b[38;5;124m\"\u001b[39m, \u001b[38;5;28;01mNone\u001b[39;00m),\n\u001b[0;32m   1665\u001b[0m     compression\u001b[38;5;241m=\u001b[39m\u001b[38;5;28mself\u001b[39m\u001b[38;5;241m.\u001b[39moptions\u001b[38;5;241m.\u001b[39mget(\u001b[38;5;124m\"\u001b[39m\u001b[38;5;124mcompression\u001b[39m\u001b[38;5;124m\"\u001b[39m, \u001b[38;5;28;01mNone\u001b[39;00m),\n\u001b[0;32m   1666\u001b[0m     memory_map\u001b[38;5;241m=\u001b[39m\u001b[38;5;28mself\u001b[39m\u001b[38;5;241m.\u001b[39moptions\u001b[38;5;241m.\u001b[39mget(\u001b[38;5;124m\"\u001b[39m\u001b[38;5;124mmemory_map\u001b[39m\u001b[38;5;124m\"\u001b[39m, \u001b[38;5;28;01mFalse\u001b[39;00m),\n\u001b[0;32m   1667\u001b[0m     is_text\u001b[38;5;241m=\u001b[39mis_text,\n\u001b[0;32m   1668\u001b[0m     errors\u001b[38;5;241m=\u001b[39m\u001b[38;5;28mself\u001b[39m\u001b[38;5;241m.\u001b[39moptions\u001b[38;5;241m.\u001b[39mget(\u001b[38;5;124m\"\u001b[39m\u001b[38;5;124mencoding_errors\u001b[39m\u001b[38;5;124m\"\u001b[39m, \u001b[38;5;124m\"\u001b[39m\u001b[38;5;124mstrict\u001b[39m\u001b[38;5;124m\"\u001b[39m),\n\u001b[0;32m   1669\u001b[0m     storage_options\u001b[38;5;241m=\u001b[39m\u001b[38;5;28mself\u001b[39m\u001b[38;5;241m.\u001b[39moptions\u001b[38;5;241m.\u001b[39mget(\u001b[38;5;124m\"\u001b[39m\u001b[38;5;124mstorage_options\u001b[39m\u001b[38;5;124m\"\u001b[39m, \u001b[38;5;28;01mNone\u001b[39;00m),\n\u001b[0;32m   1670\u001b[0m )\n\u001b[0;32m   1671\u001b[0m \u001b[38;5;28;01massert\u001b[39;00m \u001b[38;5;28mself\u001b[39m\u001b[38;5;241m.\u001b[39mhandles \u001b[38;5;129;01mis\u001b[39;00m \u001b[38;5;129;01mnot\u001b[39;00m \u001b[38;5;28;01mNone\u001b[39;00m\n\u001b[0;32m   1672\u001b[0m f \u001b[38;5;241m=\u001b[39m \u001b[38;5;28mself\u001b[39m\u001b[38;5;241m.\u001b[39mhandles\u001b[38;5;241m.\u001b[39mhandle\n",
      "File \u001b[1;32m~\\anaconda3\\Lib\\site-packages\\pandas\\io\\common.py:859\u001b[0m, in \u001b[0;36mget_handle\u001b[1;34m(path_or_buf, mode, encoding, compression, memory_map, is_text, errors, storage_options)\u001b[0m\n\u001b[0;32m    854\u001b[0m \u001b[38;5;28;01melif\u001b[39;00m \u001b[38;5;28misinstance\u001b[39m(handle, \u001b[38;5;28mstr\u001b[39m):\n\u001b[0;32m    855\u001b[0m     \u001b[38;5;66;03m# Check whether the filename is to be opened in binary mode.\u001b[39;00m\n\u001b[0;32m    856\u001b[0m     \u001b[38;5;66;03m# Binary mode does not support 'encoding' and 'newline'.\u001b[39;00m\n\u001b[0;32m    857\u001b[0m     \u001b[38;5;28;01mif\u001b[39;00m ioargs\u001b[38;5;241m.\u001b[39mencoding \u001b[38;5;129;01mand\u001b[39;00m \u001b[38;5;124m\"\u001b[39m\u001b[38;5;124mb\u001b[39m\u001b[38;5;124m\"\u001b[39m \u001b[38;5;129;01mnot\u001b[39;00m \u001b[38;5;129;01min\u001b[39;00m ioargs\u001b[38;5;241m.\u001b[39mmode:\n\u001b[0;32m    858\u001b[0m         \u001b[38;5;66;03m# Encoding\u001b[39;00m\n\u001b[1;32m--> 859\u001b[0m         handle \u001b[38;5;241m=\u001b[39m \u001b[38;5;28mopen\u001b[39m(\n\u001b[0;32m    860\u001b[0m             handle,\n\u001b[0;32m    861\u001b[0m             ioargs\u001b[38;5;241m.\u001b[39mmode,\n\u001b[0;32m    862\u001b[0m             encoding\u001b[38;5;241m=\u001b[39mioargs\u001b[38;5;241m.\u001b[39mencoding,\n\u001b[0;32m    863\u001b[0m             errors\u001b[38;5;241m=\u001b[39merrors,\n\u001b[0;32m    864\u001b[0m             newline\u001b[38;5;241m=\u001b[39m\u001b[38;5;124m\"\u001b[39m\u001b[38;5;124m\"\u001b[39m,\n\u001b[0;32m    865\u001b[0m         )\n\u001b[0;32m    866\u001b[0m     \u001b[38;5;28;01melse\u001b[39;00m:\n\u001b[0;32m    867\u001b[0m         \u001b[38;5;66;03m# Binary mode\u001b[39;00m\n\u001b[0;32m    868\u001b[0m         handle \u001b[38;5;241m=\u001b[39m \u001b[38;5;28mopen\u001b[39m(handle, ioargs\u001b[38;5;241m.\u001b[39mmode)\n",
      "\u001b[1;31mFileNotFoundError\u001b[0m: [Errno 2] No such file or directory: '../data/iMAD_Data12.csv'"
     ]
    }
   ],
   "source": [
    "# Load data for change detection as a pandas data frame.\n",
    "infys_df =  pd.read_csv(\"../data/iMAD_Data12.csv\") #need to change the dataset \n",
    "infys_df.head()"
   ]
  },
  {
   "cell_type": "code",
   "execution_count": 4,
   "id": "5a557c2d-3eb1-4b37-8ce4-0a8519d310ad",
   "metadata": {},
   "outputs": [],
   "source": [
    "# Create new ids by concatenating 'Conglomerado' and 'Sitio'.\n",
    "infys_df['cng_sit'] = infys_df['Conglomerado'].astype(str) + '_' + infys_df['Sitio'].astype(str) ## don't think I need to do that\n",
    "## Use existing ID of Metadataset called Cluster_ID -> should be able to leave that one out\n",
    "\n",
    "\n",
    "# As we want to compare cycle 1 vs cycle 2 lets separate them.   \n",
    "## Stays the same for long dataformat\n",
    "## might figure out how to \n",
    "infys_df_c1 = infys_df[infys_df['File'] == 1]\n",
    "infys_df_c2 = infys_df[infys_df['File'] == 2]"
   ]
  },
  {
   "cell_type": "code",
   "execution_count": 5,
   "id": "a7573310-c66a-4876-83c1-f362e56f0630",
   "metadata": {},
   "outputs": [],
   "source": [
    "# Find intersection of new ID variable: 'cng_sit', so obs. that are present in both cycles.\n",
    "s1 = infys_df_c1['cng_sit']\n",
    "s2 = infys_df_c2['cng_sit']\n",
    "cng_sit_inter = pd.Series(list(set(s1).intersection(set(s2))))\n",
    "## might have already done this in R by using my filter(muestreado1 == 1 & muestreado2 == 1)\n",
    "\n"
   ]
  },
  {
   "cell_type": "code",
   "execution_count": 6,
   "id": "2bf700f5-fb53-4bb3-bb5c-9606834dc3a6",
   "metadata": {},
   "outputs": [],
   "source": [
    "# Filter out obs. that dont appear in cng_sit_inter.\n",
    "infys_df_c1 = infys_df_c1[infys_df_c1['cng_sit'].isin(cng_sit_inter)]\n",
    "infys_df_c2 = infys_df_c2[infys_df_c2['cng_sit'].isin(cng_sit_inter)]"
   ]
  },
  {
   "cell_type": "code",
   "execution_count": 7,
   "id": "4a12c86e-7fb2-41f0-bda3-1bc76c7d553d",
   "metadata": {},
   "outputs": [],
   "source": [
    "# Select only variables to be utilized in change detection.\n",
    "## probably lose H and add tree counts and species counts\n",
    "vars = [\"H\", \"J\", \"AvgTreeHeight\", \"AvgDbh\", \"AvgCrownDiameter\", \"AvgCrownHeight\", \"AvgCrownArea\"]\n",
    "nvars = len(vars)\n",
    "infys_df_c1_c = infys_df_c1[infys_df_c1.columns.intersection(vars)]\n",
    "infys_df_c2_c = infys_df_c2[infys_df_c2.columns.intersection(vars)]\n",
    "\n",
    "c1_c_nans = infys_df_c1_c.isna().any(axis=1).to_numpy()\n",
    "c2_c_nans = infys_df_c2_c.isna().any(axis=1).to_numpy()"
   ]
  },
  {
   "cell_type": "code",
   "execution_count": 8,
   "id": "29d25cf3-e61d-41b8-ad5c-1ca8ab19de32",
   "metadata": {},
   "outputs": [],
   "source": [
    "# Create change data matrix, missing values mask and initial change weights.\n",
    "## think this can stay the same\n",
    "dm = np.zeros((2 * nvars, infys_df_c1_c.shape[0]))\n",
    "dm[0:nvars] = np.transpose(infys_df_c1_c.to_numpy())\n",
    "dm[nvars:] = np.transpose(infys_df_c2_c.to_numpy())\n",
    "\n",
    "nodataidx = c1_c_nans | c2_c_nans\n",
    "gooddataidx = nodataidx == False\n",
    "dm = dm[:, gooddataidx]\n",
    "ngood = np.sum(gooddataidx)"
   ]
  },
  {
   "cell_type": "code",
   "execution_count": 9,
   "id": "f8d428e9-b001-49b0-9c45-50d13e269f2e",
   "metadata": {},
   "outputs": [
    {
     "name": "stdout",
     "output_type": "stream",
     "text": [
      "0\n",
      "1\n",
      "2\n",
      "3\n",
      "4\n",
      "5\n",
      "6\n",
      "7\n",
      "8\n",
      "9\n",
      "10\n",
      "11\n",
      "12\n",
      "13\n",
      "14\n",
      "15\n",
      "16\n",
      "17\n",
      "18\n",
      "19\n",
      "20\n",
      "21\n"
     ]
    }
   ],
   "source": [
    "# Change detection iterations.\n",
    "## also think this can stay\n",
    "# iteration of MAD   \n",
    "wt = np.ones(int(ngood))\n",
    "delta = 1.0\n",
    "oldrho = np.zeros(nvars)\n",
    "iter = 0\n",
    " \n",
    "while (delta > 0.01) and (iter < 50): \n",
    "    print(iter)\n",
    "    # Weighted covariance matrices and means.\n",
    "    sumw = np.sum(wt)\n",
    "    means = np.average(dm,axis=1, weights=wt)\n",
    "    dmc = dm - means[:,np.newaxis]\n",
    "    dmc = np.multiply(dmc,np.sqrt(wt))\n",
    "    sigma = np.dot(dmc,dmc.T)/sumw\n",
    "   \n",
    "    s11 = sigma[0:nvars, 0:nvars]\n",
    "    s22 = sigma[nvars:, nvars:]\n",
    "    s12 = sigma[0:nvars, nvars:]\n",
    "    s21 = sigma[nvars:, 0:nvars]\n",
    "    \n",
    "    # Solution of generalized eigenproblems.\n",
    "    aux_1 = linalg.solve(s22, s21)\n",
    "    lama, a = linalg.eig(np.dot(s12, aux_1), s11)\n",
    "    aux_2 = linalg.solve(s11, s12)\n",
    "    lamb, b = linalg.eig(np.dot(s21, aux_2), s22)\n",
    "    \n",
    "    # Sort a.  \n",
    "    idx = np.argsort(lama)\n",
    "    a = a[:, idx]\n",
    "    \n",
    "    # Sort b.        \n",
    "    idx = np.argsort(lamb)\n",
    "    b = b[:, idx]\n",
    "    \n",
    "    # Canonical correlations.        \n",
    "    rho = np.sqrt(np.real(lamb[idx]))\n",
    "    \n",
    "    # Normalize dispersions.  \n",
    "    tmp1 = np.dot(np.dot(a.T,s11), a)\n",
    "    tmp2 = 1. / np.sqrt(np.diag(tmp1))\n",
    "    tmp3 = np.tile(tmp2, (nvars, 1))\n",
    "    a = np.multiply(a, tmp3)\n",
    "    b = np.mat(b)\n",
    "    tmp1 = np.dot(np.dot(b.T,s22), b)\n",
    "    tmp2 = 1. / np.sqrt(np.diag(tmp1))\n",
    "    tmp3 = np.tile(tmp2, (nvars, 1))\n",
    "    b = np.multiply(b, tmp3)\n",
    "        \n",
    "    # Assure positive correlation\n",
    "    tmp = np.diag(np.dot(np.dot(a.T,s12), b))\n",
    "    b = np.dot(b,np.diag(tmp / np.abs(tmp)))\n",
    "\n",
    "    # Canonical and MAD variates\n",
    "    U = np.dot(a.T , (dm[0:nvars, :] - means[0:nvars, np.newaxis]))    \n",
    "    V = np.dot(b.T , (dm[nvars:, :] - means[nvars:, np.newaxis]))          \n",
    "    MAD = U - V  \n",
    "        \n",
    "    # New weights.        \n",
    "    var_mad = np.tile(np.mat(2 * (1 - rho)).T, (1, ngood))    \n",
    "    chisqr = np.sum(np.multiply(MAD, MAD) / var_mad, 0)\n",
    "    wt = np.squeeze(1 - np.array(stats.chi2._cdf(chisqr, nvars)))\n",
    "        \n",
    "    # Continue iteration.        \n",
    "    delta = np.sum(np.abs(rho - oldrho))\n",
    "    oldrho = rho\n",
    "    iter += 1\n",
    "    \n",
    "# reshape to original image size, by including nodata pixels    \n",
    "MADout = np.zeros((int(nvars), infys_df_c1_c.shape[0]))\n",
    "MADout[0:nvars, gooddataidx] = MAD\n",
    "#MADout[nvars:(nvars + 1), gooddataidx] = chisqr"
   ]
  },
  {
   "cell_type": "code",
   "execution_count": null,
   "id": "968bd916-4822-4fd6-b6ad-a68b3d7dcbd0",
   "metadata": {},
   "outputs": [],
   "source": []
  },
  {
   "cell_type": "code",
   "execution_count": 10,
   "id": "7413b93f-1d65-43db-90e1-8bbc022357ca",
   "metadata": {},
   "outputs": [],
   "source": [
    "# TODO add coordinates to table\n",
    "# Pandas copied R maybe read a bit on python data frame manipulation\n",
    "## should also already work - especially with the single source coordinates from the metadata\n",
    "MADout = np.transpose(MADout).copy()\n",
    "MADout_df = pd.DataFrame(MADout, columns=vars)"
   ]
  },
  {
   "cell_type": "code",
   "execution_count": 11,
   "id": "448528ff-fa54-45d7-a6ae-d9d12ef69828",
   "metadata": {},
   "outputs": [],
   "source": [
    "MADout_df[\"X\"] = infys_df_c1[\"X\"]\n",
    "MADout_df[\"Y\"] = infys_df_c1[\"Y\"]"
   ]
  },
  {
   "cell_type": "code",
   "execution_count": 12,
   "id": "3c4f0efb-4bb0-4392-b928-103b8dc2b5b7",
   "metadata": {},
   "outputs": [],
   "source": [
    "MADout_df.to_csv('iMAD_results.csv', index=False)"
   ]
  },
  {
   "cell_type": "code",
   "execution_count": null,
   "id": "dd1a5808-7929-4cd5-929b-07c79545de13",
   "metadata": {},
   "outputs": [],
   "source": []
  }
 ],
 "metadata": {
  "kernelspec": {
   "display_name": "Python 3 (ipykernel)",
   "language": "python",
   "name": "python3"
  },
  "language_info": {
   "codemirror_mode": {
    "name": "ipython",
    "version": 3
   },
   "file_extension": ".py",
   "mimetype": "text/x-python",
   "name": "python",
   "nbconvert_exporter": "python",
   "pygments_lexer": "ipython3",
   "version": "3.11.5"
  }
 },
 "nbformat": 4,
 "nbformat_minor": 5
}
