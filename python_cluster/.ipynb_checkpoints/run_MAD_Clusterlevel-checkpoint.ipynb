{
 "cells": [
  {
   "cell_type": "code",
   "execution_count": 13,
   "id": "82ceec98",
   "metadata": {},
   "outputs": [],
   "source": [
    "# This script is used for testing all adaptations and changes made"
   ]
  },
  {
   "cell_type": "code",
   "execution_count": 23,
   "id": "d027cede-466a-4784-b346-bc45d8471cfe",
   "metadata": {},
   "outputs": [],
   "source": [
    "import pandas as pd\n",
    "import numpy as np\n",
    "\n",
    "from scipy import linalg\n",
    "from scipy import stats"
   ]
  },
  {
   "cell_type": "code",
   "execution_count": 24,
   "id": "1152c2ae-9bfa-436e-ac4b-c249f048141e",
   "metadata": {},
   "outputs": [
    {
     "data": {
      "text/html": [
       "<div>\n",
       "<style scoped>\n",
       "    .dataframe tbody tr th:only-of-type {\n",
       "        vertical-align: middle;\n",
       "    }\n",
       "\n",
       "    .dataframe tbody tr th {\n",
       "        vertical-align: top;\n",
       "    }\n",
       "\n",
       "    .dataframe thead th {\n",
       "        text-align: right;\n",
       "    }\n",
       "</style>\n",
       "<table border=\"1\" class=\"dataframe\">\n",
       "  <thead>\n",
       "    <tr style=\"text-align: right;\">\n",
       "      <th></th>\n",
       "      <th>Unnamed: 0</th>\n",
       "      <th>File</th>\n",
       "      <th>Cluster_ID</th>\n",
       "      <th>AvgDbh</th>\n",
       "      <th>AvgCrownDiameter</th>\n",
       "      <th>AvgCrownHeight</th>\n",
       "      <th>AvgCrownArea</th>\n",
       "      <th>SpeciesCount</th>\n",
       "      <th>AvgTreeHeight</th>\n",
       "      <th>TreeCount</th>\n",
       "      <th>J</th>\n",
       "      <th>X</th>\n",
       "      <th>Y</th>\n",
       "    </tr>\n",
       "  </thead>\n",
       "  <tbody>\n",
       "    <tr>\n",
       "      <th>0</th>\n",
       "      <td>1</td>\n",
       "      <td>1</td>\n",
       "      <td>77652</td>\n",
       "      <td>16.103571</td>\n",
       "      <td>3.937736</td>\n",
       "      <td>3.367925</td>\n",
       "      <td>15.409993</td>\n",
       "      <td>8</td>\n",
       "      <td>15.409993</td>\n",
       "      <td>56</td>\n",
       "      <td>0.430012</td>\n",
       "      <td>-92.433389</td>\n",
       "      <td>15.588935</td>\n",
       "    </tr>\n",
       "    <tr>\n",
       "      <th>1</th>\n",
       "      <td>2</td>\n",
       "      <td>1</td>\n",
       "      <td>28451</td>\n",
       "      <td>10.380952</td>\n",
       "      <td>2.209524</td>\n",
       "      <td>0.000000</td>\n",
       "      <td>3.956920</td>\n",
       "      <td>2</td>\n",
       "      <td>3.956920</td>\n",
       "      <td>21</td>\n",
       "      <td>0.276195</td>\n",
       "      <td>-99.546778</td>\n",
       "      <td>26.072916</td>\n",
       "    </tr>\n",
       "    <tr>\n",
       "      <th>2</th>\n",
       "      <td>3</td>\n",
       "      <td>1</td>\n",
       "      <td>55242</td>\n",
       "      <td>14.996429</td>\n",
       "      <td>4.439683</td>\n",
       "      <td>4.557937</td>\n",
       "      <td>17.199388</td>\n",
       "      <td>5</td>\n",
       "      <td>17.199388</td>\n",
       "      <td>84</td>\n",
       "      <td>0.529170</td>\n",
       "      <td>-104.218713</td>\n",
       "      <td>20.403546</td>\n",
       "    </tr>\n",
       "    <tr>\n",
       "      <th>3</th>\n",
       "      <td>4</td>\n",
       "      <td>1</td>\n",
       "      <td>20795</td>\n",
       "      <td>11.600000</td>\n",
       "      <td>3.169565</td>\n",
       "      <td>4.286957</td>\n",
       "      <td>8.243627</td>\n",
       "      <td>5</td>\n",
       "      <td>8.243627</td>\n",
       "      <td>31</td>\n",
       "      <td>0.795968</td>\n",
       "      <td>-108.957083</td>\n",
       "      <td>27.390907</td>\n",
       "    </tr>\n",
       "    <tr>\n",
       "      <th>4</th>\n",
       "      <td>5</td>\n",
       "      <td>1</td>\n",
       "      <td>53236</td>\n",
       "      <td>12.194444</td>\n",
       "      <td>4.886047</td>\n",
       "      <td>5.753488</td>\n",
       "      <td>20.022403</td>\n",
       "      <td>6</td>\n",
       "      <td>20.022403</td>\n",
       "      <td>54</td>\n",
       "      <td>0.878865</td>\n",
       "      <td>-98.775463</td>\n",
       "      <td>20.791278</td>\n",
       "    </tr>\n",
       "  </tbody>\n",
       "</table>\n",
       "</div>"
      ],
      "text/plain": [
       "   Unnamed: 0  File  Cluster_ID     AvgDbh  AvgCrownDiameter  AvgCrownHeight  \\\n",
       "0           1     1       77652  16.103571          3.937736        3.367925   \n",
       "1           2     1       28451  10.380952          2.209524        0.000000   \n",
       "2           3     1       55242  14.996429          4.439683        4.557937   \n",
       "3           4     1       20795  11.600000          3.169565        4.286957   \n",
       "4           5     1       53236  12.194444          4.886047        5.753488   \n",
       "\n",
       "   AvgCrownArea  SpeciesCount  AvgTreeHeight  TreeCount         J           X  \\\n",
       "0     15.409993             8      15.409993         56  0.430012  -92.433389   \n",
       "1      3.956920             2       3.956920         21  0.276195  -99.546778   \n",
       "2     17.199388             5      17.199388         84  0.529170 -104.218713   \n",
       "3      8.243627             5       8.243627         31  0.795968 -108.957083   \n",
       "4     20.022403             6      20.022403         54  0.878865  -98.775463   \n",
       "\n",
       "           Y  \n",
       "0  15.588935  \n",
       "1  26.072916  \n",
       "2  20.403546  \n",
       "3  27.390907  \n",
       "4  20.791278  "
      ]
     },
     "execution_count": 24,
     "metadata": {},
     "output_type": "execute_result"
    }
   ],
   "source": [
    "# Load data for change detection as a pandas data frame.\n",
    "infys_df =  pd.read_csv(\"../data/iMAD/iMAD_Data_13_Constant_Zeros.csv\") #need to change the dataset \n",
    "infys_df.head()"
   ]
  },
  {
   "cell_type": "code",
   "execution_count": 25,
   "id": "5a557c2d-3eb1-4b37-8ce4-0a8519d310ad",
   "metadata": {},
   "outputs": [],
   "source": [
    "# Create new ids by concatenating 'Conglomerado' and 'Sitio'.\n",
    "    ## don't think I need to do that\n",
    "    ## Use existing ID of Metadataset called Cluster_ID -> should be able to leave that one out\n",
    "\n",
    "\n",
    "# As we want to compare cycle 1 vs cycle 2 lets separate them.   \n",
    "## Stays the same for long dataformat\n",
    "## might figure out how to \n",
    "infys_df_c1 = infys_df[infys_df['File'] == 1]\n",
    "infys_df_c2 = infys_df[infys_df['File'] == 3]"
   ]
  },
  {
   "cell_type": "code",
   "execution_count": 26,
   "id": "a7573310-c66a-4876-83c1-f362e56f0630",
   "metadata": {},
   "outputs": [],
   "source": [
    "# Find intersection of new ID variable: 'cng_sit', so obs. that are present in both cycles.\n",
    "s1 = infys_df_c1['Cluster_ID']\n",
    "s2 = infys_df_c2['Cluster_ID']\n",
    "cluster_id_inter = pd.Series(list(set(s1).intersection(set(s2))))\n",
    "## might have already done this in R by using my filter(muestreado1 == 1 & muestreado2 == 1)\n",
    "\n"
   ]
  },
  {
   "cell_type": "code",
   "execution_count": 27,
   "id": "2bf700f5-fb53-4bb3-bb5c-9606834dc3a6",
   "metadata": {},
   "outputs": [],
   "source": [
    "# Filter out obs. that dont appear in cng_sit_inter.\n",
    "infys_df_c1 = infys_df_c1[infys_df_c1['Cluster_ID'].isin(cluster_id_inter)]\n",
    "infys_df_c2 = infys_df_c2[infys_df_c2['Cluster_ID'].isin(cluster_id_inter)]"
   ]
  },
  {
   "cell_type": "code",
   "execution_count": 28,
   "id": "4a12c86e-7fb2-41f0-bda3-1bc76c7d553d",
   "metadata": {},
   "outputs": [],
   "source": [
    "# Select only variables to be utilized in change detection.\n",
    "## probably lose H and add tree counts and species counts\n",
    "vars = [\"SpeciesCount\", \"TreeCount\", \"J\", \"AvgTreeHeight\", \"AvgDbh\", \"AvgCrownDiameter\", \"AvgCrownHeight\", \"AvgCrownArea\"]\n",
    "nvars = len(vars)\n",
    "infys_df_c1_c = infys_df_c1[infys_df_c1.columns.intersection(vars)]\n",
    "infys_df_c2_c = infys_df_c2[infys_df_c2.columns.intersection(vars)]\n",
    "\n",
    "c1_c_nans = infys_df_c1_c.isna().any(axis=1).to_numpy()\n",
    "c2_c_nans = infys_df_c2_c.isna().any(axis=1).to_numpy()"
   ]
  },
  {
   "cell_type": "code",
   "execution_count": 29,
   "id": "29d25cf3-e61d-41b8-ad5c-1ca8ab19de32",
   "metadata": {},
   "outputs": [],
   "source": [
    "# Create change data matrix, missing values mask and initial change weights.\n",
    "## think this can stay the same\n",
    "dm = np.zeros((2 * nvars, infys_df_c1_c.shape[0]))\n",
    "dm[0:nvars] = np.transpose(infys_df_c1_c.to_numpy())\n",
    "dm[nvars:] = np.transpose(infys_df_c2_c.to_numpy())\n",
    "\n",
    "nodataidx = c1_c_nans | c2_c_nans\n",
    "gooddataidx = nodataidx == False\n",
    "dm = dm[:, gooddataidx]\n",
    "ngood = np.sum(gooddataidx)"
   ]
  },
  {
   "cell_type": "code",
   "execution_count": 36,
   "id": "f8d428e9-b001-49b0-9c45-50d13e269f2e",
   "metadata": {},
   "outputs": [
    {
     "name": "stdout",
     "output_type": "stream",
     "text": [
      "0\n"
     ]
    },
    {
     "name": "stderr",
     "output_type": "stream",
     "text": [
      "C:\\Users\\samhu\\AppData\\Local\\Temp\\ipykernel_9452\\1300806522.py:24: LinAlgWarning: Ill-conditioned matrix (rcond=5.66518e-32): result may not be accurate.\n",
      "  aux_1 = linalg.solve(s22, s21)\n",
      "C:\\Users\\samhu\\AppData\\Local\\Temp\\ipykernel_9452\\1300806522.py:26: LinAlgWarning: Ill-conditioned matrix (rcond=2.48501e-32): result may not be accurate.\n",
      "  aux_2 = linalg.solve(s11, s12)\n",
      "C:\\Users\\samhu\\AppData\\Local\\Temp\\ipykernel_9452\\1300806522.py:38: RuntimeWarning: invalid value encountered in sqrt\n",
      "  rho = np.sqrt(np.real(lamb[idx]))\n",
      "C:\\Users\\samhu\\AppData\\Local\\Temp\\ipykernel_9452\\1300806522.py:62: RuntimeWarning: invalid value encountered in divide\n",
      "  chisqr = np.sum(np.multiply(MAD, MAD) / var_mad, 0)\n"
     ]
    },
    {
     "ename": "TypeError",
     "evalue": "ufunc 'chdtr' not supported for the input types, and the inputs could not be safely coerced to any supported types according to the casting rule ''safe''",
     "output_type": "error",
     "traceback": [
      "\u001b[1;31m---------------------------------------------------------------------------\u001b[0m",
      "\u001b[1;31mTypeError\u001b[0m                                 Traceback (most recent call last)",
      "\u001b[1;32m~\\AppData\\Local\\Temp\\ipykernel_9452\\1300806522.py\u001b[0m in \u001b[0;36m?\u001b[1;34m()\u001b[0m\n\u001b[0;32m     59\u001b[0m \u001b[1;33m\u001b[0m\u001b[0m\n\u001b[0;32m     60\u001b[0m     \u001b[1;31m# New weights.\u001b[0m\u001b[1;33m\u001b[0m\u001b[1;33m\u001b[0m\u001b[0m\n\u001b[0;32m     61\u001b[0m     \u001b[0mvar_mad\u001b[0m \u001b[1;33m=\u001b[0m \u001b[0mnp\u001b[0m\u001b[1;33m.\u001b[0m\u001b[0mtile\u001b[0m\u001b[1;33m(\u001b[0m\u001b[0mnp\u001b[0m\u001b[1;33m.\u001b[0m\u001b[0mmat\u001b[0m\u001b[1;33m(\u001b[0m\u001b[1;36m2\u001b[0m \u001b[1;33m*\u001b[0m \u001b[1;33m(\u001b[0m\u001b[1;36m1\u001b[0m \u001b[1;33m-\u001b[0m \u001b[0mrho\u001b[0m\u001b[1;33m)\u001b[0m\u001b[1;33m)\u001b[0m\u001b[1;33m.\u001b[0m\u001b[0mT\u001b[0m\u001b[1;33m,\u001b[0m \u001b[1;33m(\u001b[0m\u001b[1;36m1\u001b[0m\u001b[1;33m,\u001b[0m \u001b[0mngood\u001b[0m\u001b[1;33m)\u001b[0m\u001b[1;33m)\u001b[0m\u001b[1;33m\u001b[0m\u001b[1;33m\u001b[0m\u001b[0m\n\u001b[0;32m     62\u001b[0m     \u001b[0mchisqr\u001b[0m \u001b[1;33m=\u001b[0m \u001b[0mnp\u001b[0m\u001b[1;33m.\u001b[0m\u001b[0msum\u001b[0m\u001b[1;33m(\u001b[0m\u001b[0mnp\u001b[0m\u001b[1;33m.\u001b[0m\u001b[0mmultiply\u001b[0m\u001b[1;33m(\u001b[0m\u001b[0mMAD\u001b[0m\u001b[1;33m,\u001b[0m \u001b[0mMAD\u001b[0m\u001b[1;33m)\u001b[0m \u001b[1;33m/\u001b[0m \u001b[0mvar_mad\u001b[0m\u001b[1;33m,\u001b[0m \u001b[1;36m0\u001b[0m\u001b[1;33m)\u001b[0m\u001b[1;33m\u001b[0m\u001b[1;33m\u001b[0m\u001b[0m\n\u001b[1;32m---> 63\u001b[1;33m     \u001b[0mwt\u001b[0m \u001b[1;33m=\u001b[0m \u001b[0mnp\u001b[0m\u001b[1;33m.\u001b[0m\u001b[0msqueeze\u001b[0m\u001b[1;33m(\u001b[0m\u001b[1;36m1\u001b[0m \u001b[1;33m-\u001b[0m \u001b[0mnp\u001b[0m\u001b[1;33m.\u001b[0m\u001b[0marray\u001b[0m\u001b[1;33m(\u001b[0m\u001b[0mstats\u001b[0m\u001b[1;33m.\u001b[0m\u001b[0mchi2\u001b[0m\u001b[1;33m.\u001b[0m\u001b[0m_cdf\u001b[0m\u001b[1;33m(\u001b[0m\u001b[0mchisqr\u001b[0m\u001b[1;33m,\u001b[0m \u001b[0mnvars\u001b[0m\u001b[1;33m)\u001b[0m\u001b[1;33m)\u001b[0m\u001b[1;33m)\u001b[0m\u001b[1;33m\u001b[0m\u001b[1;33m\u001b[0m\u001b[0m\n\u001b[0m\u001b[0;32m     64\u001b[0m \u001b[1;33m\u001b[0m\u001b[0m\n\u001b[0;32m     65\u001b[0m     \u001b[1;31m# Continue iteration.\u001b[0m\u001b[1;33m\u001b[0m\u001b[1;33m\u001b[0m\u001b[0m\n\u001b[0;32m     66\u001b[0m     \u001b[0mdelta\u001b[0m \u001b[1;33m=\u001b[0m \u001b[0mnp\u001b[0m\u001b[1;33m.\u001b[0m\u001b[0msum\u001b[0m\u001b[1;33m(\u001b[0m\u001b[0mnp\u001b[0m\u001b[1;33m.\u001b[0m\u001b[0mabs\u001b[0m\u001b[1;33m(\u001b[0m\u001b[0mrho\u001b[0m \u001b[1;33m-\u001b[0m \u001b[0moldrho\u001b[0m\u001b[1;33m)\u001b[0m\u001b[1;33m)\u001b[0m\u001b[1;33m\u001b[0m\u001b[1;33m\u001b[0m\u001b[0m\n",
      "\u001b[1;32m~\\anaconda3\\Lib\\site-packages\\scipy\\stats\\_continuous_distns.py\u001b[0m in \u001b[0;36m?\u001b[1;34m(self, x, df)\u001b[0m\n\u001b[0;32m   1486\u001b[0m     \u001b[1;32mdef\u001b[0m \u001b[0m_cdf\u001b[0m\u001b[1;33m(\u001b[0m\u001b[0mself\u001b[0m\u001b[1;33m,\u001b[0m \u001b[0mx\u001b[0m\u001b[1;33m,\u001b[0m \u001b[0mdf\u001b[0m\u001b[1;33m)\u001b[0m\u001b[1;33m:\u001b[0m\u001b[1;33m\u001b[0m\u001b[1;33m\u001b[0m\u001b[0m\n\u001b[1;32m-> 1487\u001b[1;33m         \u001b[1;32mreturn\u001b[0m \u001b[0msc\u001b[0m\u001b[1;33m.\u001b[0m\u001b[0mchdtr\u001b[0m\u001b[1;33m(\u001b[0m\u001b[0mdf\u001b[0m\u001b[1;33m,\u001b[0m \u001b[0mx\u001b[0m\u001b[1;33m)\u001b[0m\u001b[1;33m\u001b[0m\u001b[1;33m\u001b[0m\u001b[0m\n\u001b[0m",
      "\u001b[1;31mTypeError\u001b[0m: ufunc 'chdtr' not supported for the input types, and the inputs could not be safely coerced to any supported types according to the casting rule ''safe''"
     ]
    }
   ],
   "source": [
    "# Change detection iterations.\n",
    "## also think this can stay -> can't: have to manage NAs for empty plots without throwing them out completely\n",
    "# iteration of MAD   \n",
    "wt = np.ones(int(ngood))\n",
    "delta = 1.0\n",
    "oldrho = np.zeros(nvars)\n",
    "iter = 0\n",
    " \n",
    "while (delta > 0.01) and (iter < 50): \n",
    "    print(iter)\n",
    "    # Weighted covariance matrices and means.\n",
    "    sumw = np.sum(wt)\n",
    "    means = np.average(dm,axis=1, weights=wt)\n",
    "    dmc = dm - means[:,np.newaxis]\n",
    "    dmc = np.multiply(dmc,np.sqrt(wt))\n",
    "    sigma = np.dot(dmc,dmc.T)/sumw\n",
    "   \n",
    "    s11 = sigma[0:nvars, 0:nvars]\n",
    "    s22 = sigma[nvars:, nvars:]\n",
    "    s12 = sigma[0:nvars, nvars:]\n",
    "    s21 = sigma[nvars:, 0:nvars]\n",
    "    \n",
    "    # Solution of generalized eigenproblems.\n",
    "    aux_1 = linalg.solve(s22, s21)\n",
    "    lama, a = linalg.eig(np.dot(s12, aux_1), s11)\n",
    "    aux_2 = linalg.solve(s11, s12)\n",
    "    lamb, b = linalg.eig(np.dot(s21, aux_2), s22)\n",
    "    \n",
    "    # Sort a.  \n",
    "    idx = np.argsort(lama)\n",
    "    a = a[:, idx]\n",
    "    \n",
    "    # Sort b.        \n",
    "    idx = np.argsort(lamb)\n",
    "    b = b[:, idx]\n",
    "    \n",
    "    # Canonical correlations.        \n",
    "    rho = np.sqrt(np.real(lamb[idx]))\n",
    "    \n",
    "    # Normalize dispersions.  \n",
    "    tmp1 = np.dot(np.dot(a.T,s11), a)\n",
    "    tmp2 = 1. / np.sqrt(np.diag(tmp1))\n",
    "    tmp3 = np.tile(tmp2, (nvars, 1))\n",
    "    a = np.multiply(a, tmp3)\n",
    "    b = np.mat(b)\n",
    "    tmp1 = np.dot(np.dot(b.T,s22), b)\n",
    "    tmp2 = 1. / np.sqrt(np.diag(tmp1))\n",
    "    tmp3 = np.tile(tmp2, (nvars, 1))\n",
    "    b = np.multiply(b, tmp3)\n",
    "        \n",
    "    # Assure positive correlation\n",
    "    tmp = np.diag(np.dot(np.dot(a.T,s12), b))\n",
    "    b = np.dot(b,np.diag(tmp / np.abs(tmp)))\n",
    "\n",
    "    # Canonical and MAD variates\n",
    "    U = np.dot(a.T , (dm[0:nvars, :] - means[0:nvars, np.newaxis]))    \n",
    "    V = np.dot(b.T , (dm[nvars:, :] - means[nvars:, np.newaxis]))          \n",
    "    MAD = U - V  \n",
    "        \n",
    "    # New weights.        \n",
    "    var_mad = np.tile(np.mat(2 * (1 - rho)).T, (1, ngood))    \n",
    "    chisqr = np.sum(np.multiply(MAD, MAD) / var_mad, 0)\n",
    "    wt = np.squeeze(1 - np.array(stats.chi2._cdf(chisqr, nvars)))\n",
    "        \n",
    "    # Continue iteration.        \n",
    "    delta = np.sum(np.abs(rho - oldrho))\n",
    "    oldrho = rho\n",
    "    iter += 1\n",
    "    \n",
    "# reshape to original image size, by including nodata pixels    \n",
    "MADout = np.zeros((int(nvars), infys_df_c1_c.shape[0]))\n",
    "MADout[0:nvars, gooddataidx] = MAD\n",
    "#MADout[nvars:(nvars + 1), gooddataidx] = chisqr"
   ]
  },
  {
   "cell_type": "code",
   "execution_count": null,
   "id": "968bd916-4822-4fd6-b6ad-a68b3d7dcbd0",
   "metadata": {},
   "outputs": [],
   "source": []
  },
  {
   "cell_type": "code",
   "execution_count": 31,
   "id": "7413b93f-1d65-43db-90e1-8bbc022357ca",
   "metadata": {},
   "outputs": [
    {
     "ename": "ValueError",
     "evalue": "Shape of passed values is (8, 10470), indices imply (8, 8)",
     "output_type": "error",
     "traceback": [
      "\u001b[1;31m---------------------------------------------------------------------------\u001b[0m",
      "\u001b[1;31mValueError\u001b[0m                                Traceback (most recent call last)",
      "Cell \u001b[1;32mIn[31], line 5\u001b[0m\n\u001b[0;32m      1\u001b[0m \u001b[38;5;66;03m# TODO add coordinates to table\u001b[39;00m\n\u001b[0;32m      2\u001b[0m \u001b[38;5;66;03m# Pandas copied R maybe read a bit on python data frame manipulation\u001b[39;00m\n\u001b[0;32m      3\u001b[0m \u001b[38;5;66;03m## should also already work - especially with the single source coordinates from the metadata\u001b[39;00m\n\u001b[0;32m      4\u001b[0m MADout \u001b[38;5;241m=\u001b[39m np\u001b[38;5;241m.\u001b[39mtranspose(MADout)\u001b[38;5;241m.\u001b[39mcopy()\n\u001b[1;32m----> 5\u001b[0m MADout_df \u001b[38;5;241m=\u001b[39m pd\u001b[38;5;241m.\u001b[39mDataFrame(MADout, columns\u001b[38;5;241m=\u001b[39m\u001b[38;5;28mvars\u001b[39m)\n",
      "File \u001b[1;32m~\\anaconda3\\Lib\\site-packages\\pandas\\core\\frame.py:758\u001b[0m, in \u001b[0;36mDataFrame.__init__\u001b[1;34m(self, data, index, columns, dtype, copy)\u001b[0m\n\u001b[0;32m    747\u001b[0m         mgr \u001b[38;5;241m=\u001b[39m dict_to_mgr(\n\u001b[0;32m    748\u001b[0m             \u001b[38;5;66;03m# error: Item \"ndarray\" of \"Union[ndarray, Series, Index]\" has no\u001b[39;00m\n\u001b[0;32m    749\u001b[0m             \u001b[38;5;66;03m# attribute \"name\"\u001b[39;00m\n\u001b[1;32m   (...)\u001b[0m\n\u001b[0;32m    755\u001b[0m             copy\u001b[38;5;241m=\u001b[39m_copy,\n\u001b[0;32m    756\u001b[0m         )\n\u001b[0;32m    757\u001b[0m     \u001b[38;5;28;01melse\u001b[39;00m:\n\u001b[1;32m--> 758\u001b[0m         mgr \u001b[38;5;241m=\u001b[39m ndarray_to_mgr(\n\u001b[0;32m    759\u001b[0m             data,\n\u001b[0;32m    760\u001b[0m             index,\n\u001b[0;32m    761\u001b[0m             columns,\n\u001b[0;32m    762\u001b[0m             dtype\u001b[38;5;241m=\u001b[39mdtype,\n\u001b[0;32m    763\u001b[0m             copy\u001b[38;5;241m=\u001b[39mcopy,\n\u001b[0;32m    764\u001b[0m             typ\u001b[38;5;241m=\u001b[39mmanager,\n\u001b[0;32m    765\u001b[0m         )\n\u001b[0;32m    767\u001b[0m \u001b[38;5;66;03m# For data is list-like, or Iterable (will consume into list)\u001b[39;00m\n\u001b[0;32m    768\u001b[0m \u001b[38;5;28;01melif\u001b[39;00m is_list_like(data):\n",
      "File \u001b[1;32m~\\anaconda3\\Lib\\site-packages\\pandas\\core\\internals\\construction.py:337\u001b[0m, in \u001b[0;36mndarray_to_mgr\u001b[1;34m(values, index, columns, dtype, copy, typ)\u001b[0m\n\u001b[0;32m    332\u001b[0m \u001b[38;5;66;03m# _prep_ndarraylike ensures that values.ndim == 2 at this point\u001b[39;00m\n\u001b[0;32m    333\u001b[0m index, columns \u001b[38;5;241m=\u001b[39m _get_axes(\n\u001b[0;32m    334\u001b[0m     values\u001b[38;5;241m.\u001b[39mshape[\u001b[38;5;241m0\u001b[39m], values\u001b[38;5;241m.\u001b[39mshape[\u001b[38;5;241m1\u001b[39m], index\u001b[38;5;241m=\u001b[39mindex, columns\u001b[38;5;241m=\u001b[39mcolumns\n\u001b[0;32m    335\u001b[0m )\n\u001b[1;32m--> 337\u001b[0m _check_values_indices_shape_match(values, index, columns)\n\u001b[0;32m    339\u001b[0m \u001b[38;5;28;01mif\u001b[39;00m typ \u001b[38;5;241m==\u001b[39m \u001b[38;5;124m\"\u001b[39m\u001b[38;5;124marray\u001b[39m\u001b[38;5;124m\"\u001b[39m:\n\u001b[0;32m    340\u001b[0m     \u001b[38;5;28;01mif\u001b[39;00m \u001b[38;5;28missubclass\u001b[39m(values\u001b[38;5;241m.\u001b[39mdtype\u001b[38;5;241m.\u001b[39mtype, \u001b[38;5;28mstr\u001b[39m):\n",
      "File \u001b[1;32m~\\anaconda3\\Lib\\site-packages\\pandas\\core\\internals\\construction.py:408\u001b[0m, in \u001b[0;36m_check_values_indices_shape_match\u001b[1;34m(values, index, columns)\u001b[0m\n\u001b[0;32m    406\u001b[0m passed \u001b[38;5;241m=\u001b[39m values\u001b[38;5;241m.\u001b[39mshape\n\u001b[0;32m    407\u001b[0m implied \u001b[38;5;241m=\u001b[39m (\u001b[38;5;28mlen\u001b[39m(index), \u001b[38;5;28mlen\u001b[39m(columns))\n\u001b[1;32m--> 408\u001b[0m \u001b[38;5;28;01mraise\u001b[39;00m \u001b[38;5;167;01mValueError\u001b[39;00m(\u001b[38;5;124mf\u001b[39m\u001b[38;5;124m\"\u001b[39m\u001b[38;5;124mShape of passed values is \u001b[39m\u001b[38;5;132;01m{\u001b[39;00mpassed\u001b[38;5;132;01m}\u001b[39;00m\u001b[38;5;124m, indices imply \u001b[39m\u001b[38;5;132;01m{\u001b[39;00mimplied\u001b[38;5;132;01m}\u001b[39;00m\u001b[38;5;124m\"\u001b[39m)\n",
      "\u001b[1;31mValueError\u001b[0m: Shape of passed values is (8, 10470), indices imply (8, 8)"
     ]
    }
   ],
   "source": [
    "# TODO add coordinates to table\n",
    "# Pandas copied R maybe read a bit on python data frame manipulation\n",
    "## should also already work - especially with the single source coordinates from the metadata\n",
    "MADout = np.transpose(MADout).copy()\n",
    "MADout_df = pd.DataFrame(MADout, columns=vars)"
   ]
  },
  {
   "cell_type": "code",
   "execution_count": null,
   "id": "448528ff-fa54-45d7-a6ae-d9d12ef69828",
   "metadata": {},
   "outputs": [],
   "source": [
    "MADout_df[\"X\"] = infys_df_c1[\"X\"]\n",
    "MADout_df[\"Y\"] = infys_df_c1[\"Y\"]"
   ]
  },
  {
   "cell_type": "code",
   "execution_count": null,
   "id": "3c4f0efb-4bb0-4392-b928-103b8dc2b5b7",
   "metadata": {},
   "outputs": [],
   "source": [
    "MADout_df.to_csv('iMAD_results_13_Constant_Zeros.csv', index=False)"
   ]
  },
  {
   "cell_type": "code",
   "execution_count": null,
   "id": "dd1a5808-7929-4cd5-929b-07c79545de13",
   "metadata": {},
   "outputs": [],
   "source": [
    "## Beta\n",
    "\n",
    "MADout_df[\"Y\"] = infys_df_c1[\"std_chg\"]\n",
    "np.std(madout(lstone))\n",
    "madout(lastone <2*np.std)=2"
   ]
  }
 ],
 "metadata": {
  "kernelspec": {
   "display_name": "Python 3 (ipykernel)",
   "language": "python",
   "name": "python3"
  },
  "language_info": {
   "codemirror_mode": {
    "name": "ipython",
    "version": 3
   },
   "file_extension": ".py",
   "mimetype": "text/x-python",
   "name": "python",
   "nbconvert_exporter": "python",
   "pygments_lexer": "ipython3",
   "version": "3.11.5"
  }
 },
 "nbformat": 4,
 "nbformat_minor": 5
}
